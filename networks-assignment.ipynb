{
  "nbformat": 4,
  "nbformat_minor": 0,
  "metadata": {
    "colab": {
      "name": "Networks Assignment.ipynb",
      "provenance": [],
      "authorship_tag": "ABX9TyPmrL3qvHrUDb7iyZr1hH/D",
      "include_colab_link": true
    },
    "kernelspec": {
      "name": "python3",
      "display_name": "Python 3"
    }
  },
  "cells": [
    {
      "cell_type": "markdown",
      "metadata": {
        "id": "view-in-github",
        "colab_type": "text"
      },
      "source": [
        "<a href=\"https://colab.research.google.com/gist/almagashi/1d2586d05efa3ae4359873d67d7c9161/networks-assignment.ipynb\" target=\"_parent\"><img src=\"https://colab.research.google.com/assets/colab-badge.svg\" alt=\"Open In Colab\"/></a>"
      ]
    },
    {
      "cell_type": "code",
      "metadata": {
        "id": "rNwEhKEols4S"
      },
      "source": [
        "### IMPORT USEFUL LIBRARIES ###\n",
        "import matplotlib\n",
        "from pylab import *\n",
        "import networkx as nx\n",
        "import numpy as np\n",
        "import random"
      ],
      "execution_count": null,
      "outputs": []
    },
    {
      "cell_type": "code",
      "metadata": {
        "id": "c5yAqIGclxUL"
      },
      "source": [
        "G=nx.Graph()\n",
        "\n",
        "adjacency_matrix = [[0,1,0,1,1,0], \n",
        "                    [1,0,1,1,0,0],\n",
        "                    [0,1,0,1,1,1],\n",
        "                    [1,1,1,0,0,1],\n",
        "                    [1,0,1,0,0,0],\n",
        "                    [0,0,1,1,0,0]]\n",
        "G = nx.from_numpy_matrix(np.array(adjacency_matrix))  \n",
        "nx.draw(G, with_labels=True) "
      ],
      "execution_count": null,
      "outputs": []
    },
    {
      "cell_type": "code",
      "metadata": {
        "id": "jghp2dKQlz7A"
      },
      "source": [
        "G.degree"
      ],
      "execution_count": null,
      "outputs": []
    },
    {
      "cell_type": "code",
      "metadata": {
        "id": "usJNSrrsl2o1"
      },
      "source": [
        "nx.triangles(G)"
      ],
      "execution_count": null,
      "outputs": []
    },
    {
      "cell_type": "code",
      "metadata": {
        "id": "sAQIa7Q4Cr3E"
      },
      "source": [
        "m0 = 12 # number of nodes in initial condition\n",
        "m = 5 # number of edges per new node\n",
        "\n",
        "def initialize():\n",
        "    global g\n",
        "    g = nx.complete_graph(m0)\n",
        "    g.pos = nx.spring_layout(g)\n",
        "    g.count = 0\n",
        "\n",
        "def observe():\n",
        "    global g\n",
        "    cla()\n",
        "    nx.draw(g, pos = g.pos)\n",
        "\n",
        "def pref_select(nds):\n",
        "    global g\n",
        "    r = uniform(0, sum(g.degree(i) for i in nds))\n",
        "    x=0\n",
        "    for i in nds:\n",
        "        x += g.degree[i]\n",
        "        if r <= x:\n",
        "            return i\n",
        "\n",
        "def update():\n",
        "    global g\n",
        "    g.count += 1\n",
        "    if g.count % 20 == 0: # network growth once in every 20 steps\n",
        "        nds = list(g.nodes)\n",
        "        newcomer = max(nds) + 1\n",
        "        for i in range(m):\n",
        "            j = pref_select(nds)\n",
        "            g.add_edge(newcomer, j)\n",
        "            nds.remove(j)\n",
        "        g.pos[newcomer] = (0, 0)\n",
        "    g.pos = nx.spring_layout(g, pos = g.pos, iterations = 5)"
      ],
      "execution_count": null,
      "outputs": []
    },
    {
      "cell_type": "code",
      "metadata": {
        "id": "o2fxSBK6l64m"
      },
      "source": [
        "m0 = 12 \n",
        "m = 5 \n",
        "\n",
        "def initialize():\n",
        "    global g\n",
        "    g = nx.complete_graph(m0)\n",
        "    g.pos = nx.spring_layout(g)\n",
        "    g.count = 0\n",
        "\n",
        "def observe():\n",
        "    global g\n",
        "    cla()\n",
        "    nx.draw(g, pos = g.pos)\n",
        "\n",
        "def pref_select(nds):\n",
        "    global g\n",
        "    r = uniform(0, sum(g.degree(i) for i in nds))\n",
        "    x=0\n",
        "    for i in nds:\n",
        "        x += g.degree[i]\n",
        "        if r <= x:\n",
        "            return i\n",
        "\n",
        "def norm_select():\n",
        "  '''\n",
        "  Attaches the node to another node selected from a uniform distribution.\n",
        "  '''\n",
        "    global g\n",
        "    g.count += 1\n",
        "    if g.count % 20 == 0: # network growth once in every 20 steps\n",
        "        nds = list(g.nodes)\n",
        "        newcomer = max(nds) + 1\n",
        "        for i in range(m):\n",
        "            j = pref_select(nds)\n",
        "            g.add_edge(newcomer, j)\n",
        "            nds.remove(j)\n",
        "        g.pos[newcomer] = (0, 0)\n",
        "\n",
        "    # simulation of node movement\n",
        "    g.pos = nx.spring_layout(g, pos = g.pos, iterations = 5)\n",
        "    \n",
        "def update():\n",
        "    global g\n",
        "    g.count += 1\n",
        "    #for i in range(1000):\n",
        "    if g.count % 20 == 0: # network growth once in every 20 steps\n",
        "        nds = list(g.nodes)\n",
        "        newcomer = max(nds) + 1\n",
        "        # add the probability condition as prompted\n",
        "        for i in range(m):\n",
        "            if random.uniform(0,1) < 0.5:\n",
        "                j = pref_select(nds)\n",
        "            else:\n",
        "                j = random.choice(nds)\n",
        "            g.add_edge(newcomer, j)\n",
        "            nds.remove(j)\n",
        "        g.pos[newcomer] = (0, 0)\n",
        "    g.pos = nx.spring_layout(g, pos = g.pos, iterations = 5)\n",
        "\n",
        "initialize()\n",
        "for i in range(3000):\n",
        "    update()\n",
        "degree = np.array([g.degree[i] for i in g.nodes])\n",
        "plt.hist(degree, color='red', ec='black')\n",
        "plt.xlabel('Node Degree')\n",
        "plt.ylabel('Frequency')\n",
        "plt.title('Degree distribution')\n",
        "plt.show()"
      ],
      "execution_count": null,
      "outputs": []
    }
  ]
}