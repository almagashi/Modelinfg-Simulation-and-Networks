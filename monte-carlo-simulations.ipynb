{
  "nbformat": 4,
  "nbformat_minor": 0,
  "metadata": {
    "colab": {
      "name": "Monte Carlo Simulations.ipynb",
      "provenance": [],
      "collapsed_sections": [],
      "authorship_tag": "ABX9TyMAarrrDmTXgjV2XJHOBfck",
      "include_colab_link": true
    },
    "kernelspec": {
      "name": "python3",
      "display_name": "Python 3"
    }
  },
  "cells": [
    {
      "cell_type": "markdown",
      "metadata": {
        "id": "view-in-github",
        "colab_type": "text"
      },
      "source": [
        "<a href=\"https://colab.research.google.com/gist/almagashi/601d017cb390798ed3b06e04aca57b4b/monte-carlo-simulations.ipynb\" target=\"_parent\"><img src=\"https://colab.research.google.com/assets/colab-badge.svg\" alt=\"Open In Colab\"/></a>"
      ]
    },
    {
      "cell_type": "markdown",
      "metadata": {
        "id": "x38tLTwtlj2X"
      },
      "source": [
        "# Monte Carlo Simulations\n",
        "\n",
        "---\n",
        "\n"
      ]
    },
    {
      "cell_type": "code",
      "metadata": {
        "id": "x_Z7r8oahJ2i"
      },
      "source": [
        "# IMPORT USEFUL LIBRARIES\n",
        "import numpy as np\n",
        "from scipy import random\n",
        "import matplotlib.pyplot as plt\n",
        "import random\n",
        "import scipy.stats as sts\n",
        "%matplotlib inline"
      ],
      "execution_count": null,
      "outputs": []
    },
    {
      "cell_type": "markdown",
      "metadata": {
        "id": "2TR7tZLIJ_pU"
      },
      "source": [
        "# Buffon's Needle"
      ]
    },
    {
      "cell_type": "markdown",
      "metadata": {
        "id": "fOYismmyJP4r"
      },
      "source": [
        "Initially, we create a number of needles to drop, and a number of trials to do the same thing. \n",
        "We create a function which will simulate the Buffon's needle by using the formulas given before. \n",
        "We have two outputs: A histogram with the pi-value estimation, and the error plot (this one has encountered some errors as it was divided by 0, and I was not able to fix it, thus it is not a very appropriate representation). \n",
        "The log-log plot shows the trend of the error decreasing with the number of trials. That makes sense, since, the more times we try to estimate it and we average that out, that will give us something closer to the actual value of pi inverse, rather than one trial."
      ]
    },
    {
      "cell_type": "code",
      "metadata": {
        "id": "I3xgoo7Fx0HV",
        "outputId": "22dd2b17-8049-4878-cf37-2237548bc39d",
        "colab": {
          "base_uri": "https://localhost:8080/",
          "height": 312
        }
      },
      "source": [
        "drops = 100 # number of needles dropped\n",
        "numTrials = 10000\n",
        "\n",
        "def BuffonNeedle(drops, numTrials, error = False):\n",
        "  '''\n",
        "  Simulate Buffon's Needle from formulas\n",
        "\n",
        "  Input:\n",
        "\n",
        "    - drops (int): The number of needles dropped \n",
        "    - numTrials (int): The number of experimental trials\n",
        "    - error (boolean): by default, there is no error; False\n",
        "\n",
        "  Output:\n",
        "\n",
        "    - log-log plot: An error plot showing error as a function of numTrials\n",
        "    - histogram (plot): The estimation of pi over trials\n",
        "    - piEst (int): The final estimation of pi\n",
        "  '''\n",
        "\n",
        "  y=[]\n",
        "  for i in range(numTrials): \n",
        "    x=[]\n",
        "    for i in range(drops):\n",
        "      x.append(random.random()) # random position for needle\n",
        "    hits = [] # touches the line\n",
        "    miss =[] # does not touch the line\n",
        "    theta =  [0.5*np.pi*random.random() for i in range(drops)] # fall angle\n",
        "    n = [0.5*np.sin(th) for th in theta]\n",
        "\n",
        "    for idx in range(len(x)):\n",
        "\n",
        "        if x[idx]<=n[idx]:\n",
        "          hits.append(1)\n",
        "\n",
        "        else:\n",
        "          hits.append(0)\n",
        "    y.append(np.sum(hits)/drops)\n",
        "\n",
        "  if error:\n",
        "    xo = []\n",
        "    yo = []\n",
        "\n",
        "    for i in range(drops):\n",
        "      slce = y[:i]\n",
        "      error = (np.mean(slce))-(1/np.pi) # store error\n",
        "      xo.append(np.log(abs(error))) # log error\n",
        "      yo.append(np.log(i)) # log trials\n",
        "    \n",
        "    plt.plot(yo, xo) # logarithmic plot\n",
        "    plt.xlabel('Logged error')\n",
        "    plt.ylabel('Logged number of trials')\n",
        "    \n",
        "  else:\n",
        "    plt.hist(y, bins=20, ec='black') # plot the estimation values\n",
        "    plt.title ('The frequency of 1/pi estimation')\n",
        "    plt.xlabel ('1/pi')\n",
        "    plt.ylabel ('trials')\n",
        "\n",
        "    piEst = 1/(sum(y)/numTrials) # pi estimation\n",
        "    print(f'This is the value of pi according to the estimation:',piEst)\n",
        "\n",
        "BuffonNeedle(drops, numTrials) \n"
      ],
      "execution_count": null,
      "outputs": [
        {
          "output_type": "stream",
          "text": [
            "This is the value of pi according to the estimation: 3.138889586419892\n"
          ],
          "name": "stdout"
        },
        {
          "output_type": "display_data",
          "data": {
            "image/png": "[encoded data removed]",
            "text/plain": [
              "<Figure size 432x288 with 1 Axes>"
            ]
          },
          "metadata": {
            "tags": [],
            "needs_background": "light"
          }
        }
      ]
    },
    {
      "cell_type": "code",
      "metadata": {
        "id": "-whc_zy0Ixga",
        "outputId": "fcb020f7-9d3b-489d-94f5-7be65de9b512",
        "colab": {
          "base_uri": "https://localhost:8080/",
          "height": 364
        }
      },
      "source": [
        "BuffonNeedle(drops, numTrials, error=True) # logarithmic plot"
      ],
      "execution_count": null,
      "outputs": [
        {
          "output_type": "stream",
          "text": [
            "/usr/local/lib/python3.6/dist-packages/numpy/core/fromnumeric.py:3335: RuntimeWarning: Mean of empty slice.\n",
            "  out=out, **kwargs)\n",
            "/usr/local/lib/python3.6/dist-packages/numpy/core/_methods.py:161: RuntimeWarning: invalid value encountered in double_scalars\n",
            "  ret = ret.dtype.type(ret / rcount)\n",
            "/usr/local/lib/python3.6/dist-packages/ipykernel_launcher.py:48: RuntimeWarning: divide by zero encountered in log\n"
          ],
          "name": "stderr"
        },
        {
          "output_type": "display_data",
          "data": {
            "image/png": "[encoded data removed]",
            "text/plain": [
              "<Figure size 432x288 with 1 Axes>"
            ]
          },
          "metadata": {
            "tags": [],
            "needs_background": "light"
          }
        }
      ]
    },
    {
      "cell_type": "markdown",
      "metadata": {
        "id": "gBvjQ3lNKKqw"
      },
      "source": [
        "# Buffon's Needle 2"
      ]
    },
    {
      "cell_type": "markdown",
      "metadata": {
        "id": "MlyonmWYFsFW"
      },
      "source": [
        "In the three superexperiments we get very different histograms, as the range changes. While in the first experiment the range remains bigger, there is more chances that if we pick a random value of pi, we will get something not so close to pi. The confidence intervals are simply wider (from 3.05 to 3.25), thus having less degree of certainty. In the second histogram, the range narrows quite a lot (3.11, 3.17), so the chances for choosing a far-off estimated pi is also lower. Finally, we have the third histogram whose 95% confidence interval values are very close to the real value of pi, with a super narrow range of 3.135 - 3.150. This means that we are very likely to pick the closest value of pi if we chose a random sample from this distribution. "
      ]
    },
    {
      "cell_type": "code",
      "metadata": {
        "id": "NiDbVHUsKMTn"
      },
      "source": [
        "### Modify the returned function as needed for second problem prompt ###\n",
        "\n",
        "drops = 100 # number of needles dropped\n",
        "numTrials = 1000\n",
        "\n",
        "def BuffonNeedle2(drops, numTrials, error = False):\n",
        "  '''\n",
        "  Simulate Buffon's Needle from formulas\n",
        "\n",
        "  Input:\n",
        "\n",
        "    - drops (int): The number of needles dropped \n",
        "    - numTrials (int): The number of experimental trials\n",
        "    - error (boolean): by default, there is no error\n",
        "\n",
        "  Output:.\n",
        "\n",
        "    - piEst (int): The final estimation of pi\n",
        "  '''\n",
        "\n",
        "  y=[]\n",
        "  for i in range(numTrials): \n",
        "    x=[]\n",
        "    for i in range(drops):\n",
        "      x.append(random.random()) # random position for needle\n",
        "    hits = [] # touches the line\n",
        "    miss =[] # does not touch the line\n",
        "    theta =  [0.5*np.pi*random.random() for i in range(drops)] # fall angle\n",
        "    n = [0.5*np.sin(th) for th in theta]\n",
        "\n",
        "    for idx in range(len(x)):\n",
        "\n",
        "        if x[idx]<=n[idx]:\n",
        "          hits.append(1)\n",
        "\n",
        "        else:\n",
        "          hits.append(0)\n",
        "    y.append(np.sum(hits)/drops)\n",
        "\n",
        "    piEst = 1/(sum(y)/numTrials) # pi estimation\n",
        "  return piEst"
      ],
      "execution_count": null,
      "outputs": []
    },
    {
      "cell_type": "code",
      "metadata": {
        "id": "sIkDdHwy3nmc",
        "outputId": "d672cb4b-ff83-4d5c-f6e9-f39dd3166c4e",
        "colab": {
          "base_uri": "https://localhost:8080/",
          "height": 400
        }
      },
      "source": [
        "def experiment1 (trials=10000):\n",
        "  '''\n",
        "  This experiment approximates the value of pi.\n",
        "\n",
        "  Input:\n",
        "   - Trials (int):10000\n",
        "  \n",
        "  Output:\n",
        "  - Histogram (plot): The frequency of pi estimation over trials\n",
        "  '''\n",
        "  exp1 = []\n",
        "  for i in range(trials):\n",
        "    the_pi_1 = BuffonNeedle2(drops, numTrials=200) # store our estimated pi\n",
        "    exp1.append(the_pi_1)\n",
        "  return (plt.hist(exp1)), plt.title('The estimated pi over trials')\n",
        " \n",
        "experiment1()"
      ],
      "execution_count": null,
      "outputs": [
        {
          "output_type": "execute_result",
          "data": {
            "text/plain": [
              "((array([   9.,   70.,  417., 1318., 2464., 2764., 1966.,  763.,  192.,\n",
              "           37.]),\n",
              "  array([3.01659125, 3.04029409, 3.06399693, 3.08769977, 3.11140261,\n",
              "         3.13510545, 3.15880829, 3.18251113, 3.20621397, 3.22991681,\n",
              "         3.25361965]),\n",
              "  <a list of 10 Patch objects>),\n",
              " Text(0.5, 1.0, 'The estimated pi over trials'))"
            ]
          },
          "metadata": {
            "tags": []
          },
          "execution_count": 5
        },
        {
          "output_type": "display_data",
          "data": {
            "image/png": "[encoded data removed]",
            "text/plain": [
              "<Figure size 432x288 with 1 Axes>"
            ]
          },
          "metadata": {
            "tags": [],
            "needs_background": "light"
          }
        }
      ]
    },
    {
      "cell_type": "code",
      "metadata": {
        "id": "qHSPsPDY3ohl",
        "outputId": "ac80b8d1-bc98-442c-a726-2e3552fffefa",
        "colab": {
          "base_uri": "https://localhost:8080/",
          "height": 382
        }
      },
      "source": [
        "def experiment2 (trials=1000):\n",
        "  '''\n",
        "  This experiment approximates the value of pi.\n",
        "\n",
        "  Input:\n",
        "   - Trials (int):1000\n",
        "  \n",
        "  Output:\n",
        "  - Histogram (plot): The frequency of pi estimation over trials\n",
        "  '''\n",
        "  exp2 = []\n",
        "  for i in range(trials):\n",
        "    the_pi_2 = BuffonNeedle2(drops, numTrials=2000) # store our estimated pi\n",
        "    exp2.append(the_pi_2)\n",
        "  return (plt.hist(exp2)), plt.title('The estimated pi over trials')\n",
        " \n",
        "experiment2()"
      ],
      "execution_count": null,
      "outputs": [
        {
          "output_type": "execute_result",
          "data": {
            "text/plain": [
              "((array([  2.,  31.,  82., 166., 264., 238., 139.,  58.,  16.,   4.]),\n",
              "  array([3.10834123, 3.11520949, 3.12207774, 3.12894599, 3.13581425,\n",
              "         3.1426825 , 3.14955075, 3.15641901, 3.16328726, 3.17015551,\n",
              "         3.17702376]),\n",
              "  <a list of 10 Patch objects>),\n",
              " Text(0.5, 1.0, 'The estimated pi over trials'))"
            ]
          },
          "metadata": {
            "tags": []
          },
          "execution_count": 6
        },
        {
          "output_type": "display_data",
          "data": {
            "image/png": "[encoded data removed]",
            "text/plain": [
              "<Figure size 432x288 with 1 Axes>"
            ]
          },
          "metadata": {
            "tags": [],
            "needs_background": "light"
          }
        }
      ]
    },
    {
      "cell_type": "code",
      "metadata": {
        "id": "clQlrPRL3pLM",
        "outputId": "365fcda4-db83-4469-9ce9-43067062f1ac",
        "colab": {
          "base_uri": "https://localhost:8080/",
          "height": 382
        }
      },
      "source": [
        "def experiment3 (trials=100):\n",
        "  '''\n",
        "  This experiment approximates the value of pi.\n",
        "\n",
        "  Input:\n",
        "   - Trials (int):100\n",
        "  \n",
        "  Output:\n",
        "  - Histogram (plot): The frequency of pi estimation over trials\n",
        "  '''\n",
        "  exp3 = []\n",
        "  for i in range(trials):\n",
        "    the_pi_3 = BuffonNeedle2(drops, numTrials=20000) # store our estimated pi\n",
        "    exp3.append(the_pi_3)\n",
        "  return (plt.hist(exp3)), plt.title('The estimated pi over trials')\n",
        " \n",
        "experiment3()"
      ],
      "execution_count": null,
      "outputs": [
        {
          "output_type": "execute_result",
          "data": {
            "text/plain": [
              "((array([ 6.,  8., 14., 26., 22., 12.,  7.,  3.,  1.,  1.]),\n",
              "  array([3.13440321, 3.13610516, 3.13780711, 3.13950906, 3.14121101,\n",
              "         3.14291296, 3.14461491, 3.14631686, 3.14801881, 3.14972076,\n",
              "         3.15142271]),\n",
              "  <a list of 10 Patch objects>),\n",
              " Text(0.5, 1.0, 'The estimated pi over trials'))"
            ]
          },
          "metadata": {
            "tags": []
          },
          "execution_count": 7
        },
        {
          "output_type": "display_data",
          "data": {
            "image/png": "[encoded data removed]",
            "text/plain": [
              "<Figure size 432x288 with 1 Axes>"
            ]
          },
          "metadata": {
            "tags": [],
            "needs_background": "light"
          }
        }
      ]
    },
    {
      "cell_type": "markdown",
      "metadata": {
        "id": "UEoHv5v8KPgW"
      },
      "source": [
        "# Order Statistics"
      ]
    },
    {
      "cell_type": "markdown",
      "metadata": {
        "id": "0R1WmOCqQZwu"
      },
      "source": [
        "In this problem, we generate random numbers from 0,1, we sort them and we choose the last number. We repeat this process about 1000 times and we plot the last numbers after each repetition. We also add an overlay of beta distribution and we confirm that the results match for different values of k."
      ]
    },
    {
      "cell_type": "code",
      "metadata": {
        "id": "qgaJ7DsWKRtU",
        "outputId": "3d70b66f-0ce0-4e57-f77d-528cdd3da41d",
        "colab": {
          "base_uri": "https://localhost:8080/",
          "height": 264
        }
      },
      "source": [
        "def OrderStatistics(k = 1, numTrials = 1000):\n",
        "    '''\n",
        "    \n",
        "    The distribution of a value from a random sample at a particular rank\n",
        "    (e.g. smallest value in the sample)\n",
        "\n",
        "    Input:\n",
        "\n",
        "      - k (int): 1\n",
        "      - numTrials (int): 1000\n",
        "\n",
        "    Output:\n",
        "\n",
        "      - histogram (plot): a plot with the smallest kth value and a beta dist.\n",
        "\n",
        "    '''\n",
        "\n",
        "    kth = [] # kth value\n",
        "    \n",
        "    for trial in range(numTrials): \n",
        "        all_numbers = []\n",
        "        \n",
        "        for i in range(9): \n",
        "            num = np.random.uniform(0,1)\n",
        "            all_numbers.append(num)\n",
        "            \n",
        "        sorted_all =  sorted(all_numbers)\n",
        "        kth.append(sorted_all[k-1])\n",
        "   \n",
        "    plt.hist(kth, bins = 20, color='yellow', ec='black', density = True)\n",
        "      \n",
        "    x_axis = np.linspace(0,1)   # beta(k, n+1-k) \n",
        "    \n",
        "    plt.plot(x_axis, sts.beta.pdf(x_axis, a = k,b=9+1-k), c='black')\n",
        "    plt.show()\n",
        "\n",
        "OrderStatistics()"
      ],
      "execution_count": null,
      "outputs": [
        {
          "output_type": "display_data",
          "data": {
            "image/png": "[encoded data removed]",
            "text/plain": [
              "<Figure size 432x288 with 1 Axes>"
            ]
          },
          "metadata": {
            "tags": [],
            "needs_background": "light"
          }
        }
      ]
    },
    {
      "cell_type": "code",
      "metadata": {
        "id": "mX1A8xn0Rurw",
        "outputId": "5051e18e-7a9e-47c2-fee7-c111f29df011",
        "colab": {
          "base_uri": "https://localhost:8080/",
          "height": 264
        }
      },
      "source": [
        "OrderStatistics(k=3)"
      ],
      "execution_count": null,
      "outputs": [
        {
          "output_type": "display_data",
          "data": {
            "image/png": "[encoded data removed]",
            "text/plain": [
              "<Figure size 432x288 with 1 Axes>"
            ]
          },
          "metadata": {
            "tags": [],
            "needs_background": "light"
          }
        }
      ]
    },
    {
      "cell_type": "code",
      "metadata": {
        "id": "AmVddiyJRzLz",
        "outputId": "e1fb85a1-09b7-4145-c0de-c3ee2c9af3ec",
        "colab": {
          "base_uri": "https://localhost:8080/",
          "height": 264
        }
      },
      "source": [
        "OrderStatistics(k=5)"
      ],
      "execution_count": null,
      "outputs": [
        {
          "output_type": "display_data",
          "data": {
            "image/png": "[encoded data removed]",
            "text/plain": [
              "<Figure size 432x288 with 1 Axes>"
            ]
          },
          "metadata": {
            "tags": [],
            "needs_background": "light"
          }
        }
      ]
    },
    {
      "cell_type": "markdown",
      "metadata": {
        "id": "YoDeununKS5P"
      },
      "source": [
        "# Markov Chains"
      ]
    },
    {
      "cell_type": "markdown",
      "metadata": {
        "id": "ZDjY8eMOBrkt"
      },
      "source": [
        "The missing values in the matrix are found by making sure the rows/columns add up to 1. Since we have no more than one missing value per row/column, it is \n",
        "easier to subtract 1 from the sum of the known values. This is how we obtain all the missing probabilities.\n",
        "Since now our transition matrix is complete, we create a random initial distribution, as it is a required to find the stationary distribution.\n",
        "From multiplying *initdist* and *P* for 10000 times, we get the invariant distribution. We see that our histogram shows a uniform distribution.\n",
        "We check if we get the same invariant distribution with the eigenvalues, after.\n",
        "\n",
        "\n"
      ]
    },
    {
      "cell_type": "code",
      "metadata": {
        "id": "zSTwnKpiKVol",
        "outputId": "2d652cd3-0f93-43ed-956c-1c3b6a53c86c",
        "colab": {
          "base_uri": "https://localhost:8080/"
        }
      },
      "source": [
        "c_0 = 1-(0.5*np.exp(-3)) # find c_0\n",
        "c_2 = 1-(0.5*np.exp(-1)+0.5) # find c_2\n",
        "c_3= 1-(0.5*np.exp(-1)) # find c_3\n",
        "P = np.array ([[c_0, 0.5*np.exp(-3), 0, 0], # represent the problem in Python\n",
        "               [0.5, 0, 0.5, 0],\n",
        "               [0,0.5*np.exp(-1), c_2,  0.5],\n",
        "               [0,0, 0.5*np.exp(-1), c_3]])\n",
        "print(P)"
      ],
      "execution_count": null,
      "outputs": [
        {
          "output_type": "stream",
          "text": [
            "[[0.97510647 0.02489353 0.         0.        ]\n",
            " [0.5        0.         0.5        0.        ]\n",
            " [0.         0.18393972 0.31606028 0.5       ]\n",
            " [0.         0.         0.18393972 0.81606028]]\n"
          ],
          "name": "stdout"
        }
      ]
    },
    {
      "cell_type": "code",
      "metadata": {
        "id": "H_xPGr6jj-Wp",
        "outputId": "50fc6acf-ada1-40c0-9169-76e7910928a9",
        "colab": {
          "base_uri": "https://localhost:8080/"
        }
      },
      "source": [
        "# check if our probabilities add up to 1\n",
        "print(P.sum(axis=1))"
      ],
      "execution_count": null,
      "outputs": [
        {
          "output_type": "stream",
          "text": [
            "[1. 1. 1. 1.]\n"
          ],
          "name": "stdout"
        }
      ]
    },
    {
      "cell_type": "code",
      "metadata": {
        "id": "rEL-AiKRTHK5",
        "outputId": "17996cf3-aca5-4175-f9d6-57868466e6a3",
        "colab": {
          "base_uri": "https://localhost:8080/"
        }
      },
      "source": [
        "# Generate random starting distributions\n",
        "k = 4\n",
        "initdist = np.identity(1)\n",
        "initdist = initdist + np.random.uniform(low=0., high=.25, size=(1, k))\n",
        "initdist = initdist / initdist.sum(axis=1, keepdims=1)\n",
        "initdist = np.array(initdist)\n",
        "print(initdist)\n",
        "print(initdist.sum(axis=1))"
      ],
      "execution_count": null,
      "outputs": [
        {
          "output_type": "stream",
          "text": [
            "[[0.23828058 0.23601743 0.26280629 0.2628957 ]]\n",
            "[1.]\n"
          ],
          "name": "stdout"
        }
      ]
    },
    {
      "cell_type": "code",
      "metadata": {
        "id": "RqUnp4oj3UuS",
        "outputId": "d96e24ba-8a76-4c14-f311-78f0dcc0f58c",
        "colab": {
          "base_uri": "https://localhost:8080/",
          "height": 314
        }
      },
      "source": [
        "# multiply the initial distribution with the matrix P for many times to get \n",
        "# stationary distribution\n",
        "all_initdist =[]\n",
        "for i in range(10000): \n",
        "    initdist = np.matmul(initdist, P)\n",
        "    all_initdist.append(initdist)\n",
        "print(f' The stationary distribution is', initdist)\n",
        "plt.hist(initdist, density=True)\n",
        "plt.title ('Stationary Distribution')"
      ],
      "execution_count": null,
      "outputs": [
        {
          "output_type": "stream",
          "text": [
            " The stationary distribution is [[0.64391426 0.0320586  0.08714432 0.23688282]]\n"
          ],
          "name": "stdout"
        },
        {
          "output_type": "execute_result",
          "data": {
            "text/plain": [
              "Text(0.5, 1.0, 'Stationary Distribution')"
            ]
          },
          "metadata": {
            "tags": []
          },
          "execution_count": 15
        },
        {
          "output_type": "display_data",
          "data": {
            "image/png": "[encoded data removed]",
            "text/plain": [
              "<Figure size 432x288 with 1 Axes>"
            ]
          },
          "metadata": {
            "tags": [],
            "needs_background": "light"
          }
        }
      ]
    },
    {
      "cell_type": "code",
      "metadata": {
        "id": "5M2laoT1j9l9",
        "outputId": "8da16d7c-29bd-44a3-d421-56803bd6e7e7",
        "colab": {
          "base_uri": "https://localhost:8080/"
        }
      },
      "source": [
        "eigenvectors = np.linalg.eig(P.transpose()) # find eigenvectors of P\n",
        "eigenvectors"
      ],
      "execution_count": null,
      "outputs": [
        {
          "output_type": "execute_result",
          "data": {
            "text/plain": [
              "(array([-0.21737269,  0.35822669,  1.        ,  0.96637303]),\n",
              " array([[-0.25340962, -0.24509053, -0.9300295 , -0.78505495],\n",
              "        [ 0.60437139,  0.30238279, -0.04630344,  0.01371246],\n",
              "        [-0.67992697,  0.62206659, -0.12586581,  0.17828746],\n",
              "        [ 0.3289652 , -0.67935884, -0.34213873,  0.59305503]]))"
            ]
          },
          "metadata": {
            "tags": []
          },
          "execution_count": 17
        }
      ]
    },
    {
      "cell_type": "code",
      "metadata": {
        "id": "MeKSWbfZixha",
        "outputId": "12b1164b-e414-4f9b-eba8-0361c9ece5bf",
        "colab": {
          "base_uri": "https://localhost:8080/"
        }
      },
      "source": [
        "# find the stationary distribution from eigenvectors\n",
        "print((eigenvectors[1][:,2])/sum(eigenvectors[1][:,2]))"
      ],
      "execution_count": null,
      "outputs": [
        {
          "output_type": "stream",
          "text": [
            "[0.64391426 0.0320586  0.08714432 0.23688282]\n"
          ],
          "name": "stdout"
        }
      ]
    }
  ]
}